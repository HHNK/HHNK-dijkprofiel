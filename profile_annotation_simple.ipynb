{
 "cells": [
  {
   "cell_type": "markdown",
   "metadata": {},
   "source": [
    "# Dijkprofile Annotator - Simple Version\n",
    "Use this notebook to do the dijkprofile annotation if you don't want to use the `generateAnnotations.py` script.\n",
    "All you need to do is change the file paths below to point to the correct source csv's and give a correct output path."
   ]
  },
  {
   "cell_type": "code",
   "execution_count": 6,
   "metadata": {},
   "outputs": [],
   "source": [
    "# paramaters\n",
    "surfacelines_path = 'data/dijkprofiles_fryslan/2-2/surfacelines.csv'\n",
    "characteristicpoints_path = 'data/dijkprofiles_fryslan/2-2/characteristicpoints.csv'\n",
    "output_path = \"data/new_characteristicpoints.csv\""
   ]
  },
  {
   "cell_type": "code",
   "execution_count": 7,
   "metadata": {},
   "outputs": [],
   "source": [
    "# imports\n",
    "from __future__ import print_function, division\n",
    "import numpy as np\n",
    "import torch.nn.functional as F\n",
    "import csv\n",
    "import torch\n",
    "import torch.nn as nn\n",
    "import time\n",
    "import pickle\n",
    "from sklearn.preprocessing import StandardScaler\n",
    "import os\n",
    "import torch\n",
    "import pandas as pd\n",
    "import glob\n",
    "import joblib\n",
    "import seaborn as sns\n",
    "import datetime \n",
    "import matplotlib.pyplot as plt\n",
    "from torch.utils.data import Dataset, DataLoader\n",
    "from operator import itemgetter\n",
    "from torch.autograd import Variable\n",
    "from PIL import Image\n",
    "\n",
    "# import functions and globals from dijknet_functions\n",
    "from dijknet_functions import class_dict, inverse_class_dict\n",
    "from dijknet_functions import Dijknet, convert_tool_data, ffill, make_annotations"
   ]
  },
  {
   "cell_type": "markdown",
   "metadata": {},
   "source": [
    "## Load new data"
   ]
  },
  {
   "cell_type": "code",
   "execution_count": 8,
   "metadata": {},
   "outputs": [
    {
     "name": "stdout",
     "output_type": "stream",
     "text": [
      "loaded surfacelines for 166 locations\n",
      "loaded characteristic points for 166 locations\n",
      "done!\n"
     ]
    }
   ],
   "source": [
    "# path to the surfacelines and characteristic points files.\n",
    "annotation_tuples = [\n",
    "    (surfacelines_path, characteristicpoints_path)\n",
    "]\n",
    "\n",
    "profile_dict_test, surfaceline_dict_test = convert_tool_data(annotation_tuples)\n",
    "\n",
    "# scale the new profiles.\n",
    "scaler = joblib.load(\"pickles/scaler.pik\") \n",
    "for i, key in enumerate(profile_dict_test.keys()):\n",
    "    profile_dict_test[key]['profile'] = scaler.transform(profile_dict_test[key]['profile'].reshape(-1,1)).reshape(-1)\n",
    "    \n",
    "print(\"done!\")"
   ]
  },
  {
   "cell_type": "code",
   "execution_count": 9,
   "metadata": {},
   "outputs": [
    {
     "name": "stdout",
     "output_type": "stream",
     "text": [
      "loaded model!\n"
     ]
    }
   ],
   "source": [
    "device = torch.device(\"cuda:0\" if torch.cuda.is_available() else \"cpu\")\n",
    "\n",
    "PATH = \"models/dijknet_95p.pt\"\n",
    "\n",
    "# construct network\n",
    "model = Dijknet(1,len(set(class_dict.values())))\n",
    "\n",
    "# load trained weights into network\n",
    "model.load_state_dict(torch.load(PATH))\n",
    "\n",
    "# set network to inference/eval mode\n",
    "model.eval()\n",
    "\n",
    "# copy network to device\n",
    "model.to(device)\n",
    "print(\"loaded model!\")"
   ]
  },
  {
   "cell_type": "markdown",
   "metadata": {},
   "source": [
    "# make annotation"
   ]
  },
  {
   "cell_type": "code",
   "execution_count": 10,
   "metadata": {},
   "outputs": [
    {
     "name": "stdout",
     "output_type": "stream",
     "text": [
      "total profiles to predict:  166\n",
      "done!\n"
     ]
    }
   ],
   "source": [
    "make_annotations(profile_dict_test, surfaceline_dict_test, model, output_path, device)"
   ]
  },
  {
   "cell_type": "code",
   "execution_count": null,
   "metadata": {},
   "outputs": [],
   "source": []
  }
 ],
 "metadata": {
  "kernelspec": {
   "display_name": "Python (pytorch)",
   "language": "python",
   "name": "pytorch"
  },
  "language_info": {
   "codemirror_mode": {
    "name": "ipython",
    "version": 3
   },
   "file_extension": ".py",
   "mimetype": "text/x-python",
   "name": "python",
   "nbconvert_exporter": "python",
   "pygments_lexer": "ipython3",
   "version": "3.7.3"
  }
 },
 "nbformat": 4,
 "nbformat_minor": 2
}
